{
 "cells": [
  {
   "cell_type": "code",
   "execution_count": 7,
   "id": "e173d208",
   "metadata": {},
   "outputs": [],
   "source": [
    "import pandas as pd                         # 데이터 분석 패키지\n",
    "import numpy as np                         # 계산 패키지\n",
    "import matplotlib.pyplot as plt             # 데이터 시각화 패키지\n",
    "\n",
    "# 한글 깨짐 방지 \n",
    "import matplotlib\n",
    "matplotlib.rcParams['font.family'] = 'Malgun Gothic'\n",
    "matplotlib.rcParams['axes.unicode_minus'] = False\n",
    "\n",
    "# \n",
    "from matplotlib import rc\n",
    "import seaborn as sns\n",
    "%matplotlib inline\n",
    "\n",
    "#rc('font', family = 'AppleGothic')\n",
    "#plt.rcParams['axes.unicode_minus'] = False\n",
    "\n",
    "\n",
    "# 데이터 불러오기\n",
    "cafeteria = pd.read_csv('cafeteria/전국무료급식소표준데이터.csv', encoding = 'UTF-8')\n",
    "restaurant = pd.read_csv('cafeteria/전국아동복지급식정보표준데이터.csv',encoding = 'UTF-8')"
   ]
  },
  {
   "cell_type": "code",
   "execution_count": 3,
   "id": "d2d06f03",
   "metadata": {},
   "outputs": [
    {
     "name": "stdout",
     "output_type": "stream",
     "text": [
      "           시설명                      소재지도로명주소  \\\n",
      "0      동산사회복지관           전라북도 익산시 동천로7길 26-1   \n",
      "1    관운사가야복지센터         경상북도 성주군 성주읍 경산길 33-1   \n",
      "2  이웃과하나노인복지센터         경상북도 성주군 성주읍 예산3길 8-4   \n",
      "3    용암종합사회복지관    충청북도 청주시 상당구 원봉로 52-1(용암동)   \n",
      "4   청주시노인종합복지관  충청북도 청주시 상당구 대성로172번길 21(수동)   \n",
      "\n",
      "                              소재지지번주소        운영기관명          전화번호         급식장소  \\\n",
      "0                                 NaN      동산사회복지관  063-842-2253      동산사회복지관   \n",
      "1              경상북도 성주군 성주읍 경산리 577-4    관운사가야복지센터  054-931-3000    관운사가야복지센터   \n",
      "2                경상북도 성주군 성주읍 예산리 466  이웃과하나노인복지센터  054-931-1611  이웃과하나노인복지센터   \n",
      "3  충청북도 청주시 상당구 용암동 2108, 용암주공@ 1,2단지    용암종합사회복지관  043-293-9191    용암종합사회복지관   \n",
      "4               충청북도 청주시 상당구 수동 138-8   청주시노인종합복지관  043-255-2144   청주시노인종합복지관   \n",
      "\n",
      "                     급식대상             급식시간  급식요일      운영시작일자      운영종료일자  \\\n",
      "0               결식노인,저소득층  중식(12:00-13:00)     금  2017-01-01  2017-12-31   \n",
      "1  60세이상 저소득층 독거노인 및 결식노인  중식(11:30~13:00)  월, 금  2010-01-08         NaN   \n",
      "2  60세이상 저소득층 독거노인 및 결식노인  중식(12:00~13:00)  화, 수  2004-11-05         NaN   \n",
      "3                 저소득층 노인      11:30~12:30   월~금         NaN         NaN   \n",
      "4                 저소득층 노인      11:40~12:40   월~금         NaN         NaN   \n",
      "\n",
      "          위도          경도     데이터기준일자   제공기관코드     제공기관명  \n",
      "0  35.932170  126.969991  2020-12-22  6450000      전라북도  \n",
      "1  35.915662  128.284314  2020-07-15  5210000  경상북도 성주군  \n",
      "2  35.924447  128.285922  2020-07-15  5210000  경상북도 성주군  \n",
      "3  36.614349  127.509701  2020-07-17  5710000  충청북도 청주시  \n",
      "4  36.641235  127.492943  2020-07-17  5710000  충청북도 청주시  \n",
      "<class 'pandas.core.frame.DataFrame'>\n",
      "RangeIndex: 1392 entries, 0 to 1391\n",
      "Data columns (total 16 columns):\n",
      " #   Column    Non-Null Count  Dtype  \n",
      "---  ------    --------------  -----  \n",
      " 0   시설명       1392 non-null   object \n",
      " 1   소재지도로명주소  1389 non-null   object \n",
      " 2   소재지지번주소   1265 non-null   object \n",
      " 3   운영기관명     1392 non-null   object \n",
      " 4   전화번호      1325 non-null   object \n",
      " 5   급식장소      1392 non-null   object \n",
      " 6   급식대상      1392 non-null   object \n",
      " 7   급식시간      1392 non-null   object \n",
      " 8   급식요일      1392 non-null   object \n",
      " 9   운영시작일자    1027 non-null   object \n",
      " 10  운영종료일자    542 non-null    object \n",
      " 11  위도        1343 non-null   float64\n",
      " 12  경도        1343 non-null   float64\n",
      " 13  데이터기준일자   1392 non-null   object \n",
      " 14  제공기관코드    1392 non-null   object \n",
      " 15  제공기관명     1392 non-null   object \n",
      "dtypes: float64(2), object(14)\n",
      "memory usage: 174.1+ KB\n",
      "None\n"
     ]
    }
   ],
   "source": [
    "print(cafeteria.head())\n",
    "print(cafeteria.info())"
   ]
  },
  {
   "cell_type": "code",
   "execution_count": 8,
   "id": "ccb89533",
   "metadata": {},
   "outputs": [
    {
     "data": {
      "text/plain": [
       "0       False\n",
       "1        True\n",
       "2        True\n",
       "3        True\n",
       "4        True\n",
       "        ...  \n",
       "1387    False\n",
       "1388    False\n",
       "1389    False\n",
       "1390    False\n",
       "1391    False\n",
       "Name: 운영종료일자, Length: 1392, dtype: bool"
      ]
     },
     "execution_count": 8,
     "metadata": {},
     "output_type": "execute_result"
    }
   ],
   "source": [
    "# 운영종료된 급식소 표기 X\n",
    "cafeteria['운영종료일자'].isnull()"
   ]
  },
  {
   "cell_type": "code",
   "execution_count": 9,
   "id": "efa9f879",
   "metadata": {},
   "outputs": [
    {
     "data": {
      "text/plain": [
       "2021-12-31    168\n",
       "2022-12-31     79\n",
       "2022-12-30     11\n",
       "2050-12-31      5\n",
       "2099-12-31      5\n",
       "2021-12-30      4\n",
       "2050-01-01      3\n",
       "2025-12-31      2\n",
       "Name: 운영종료일자, dtype: int64"
      ]
     },
     "execution_count": 9,
     "metadata": {},
     "output_type": "execute_result"
    }
   ],
   "source": [
    "# 운영 종료일자 11/30 이상 종료일자가 없는 급식소 데이터 추출\n",
    "cafeteria_on = cafeteria[(cafeteria['운영종료일자']> '2021-11-30') | (cafeteria['운영종료일자'].isnull() == True)]\n",
    "cafeteria_on['운영종료일자'].value_counts()"
   ]
  },
  {
   "cell_type": "code",
   "execution_count": 10,
   "id": "cad3c128",
   "metadata": {},
   "outputs": [
    {
     "name": "stdout",
     "output_type": "stream",
     "text": [
      "False    1087\n",
      "True       40\n",
      "Name: 위도, dtype: int64\n",
      "False    1087\n",
      "True       40\n",
      "Name: 경도, dtype: int64\n"
     ]
    }
   ],
   "source": [
    "# 위경도 결측치 제거\n",
    "print(cafeteria_on['위도'].isnull().value_counts())\n",
    "print(cafeteria_on['경도'].isnull().value_counts())"
   ]
  },
  {
   "cell_type": "code",
   "execution_count": 11,
   "id": "314897ce",
   "metadata": {},
   "outputs": [],
   "source": [
    "# 위도 결측치 제거\n",
    "cafeteria_on = cafeteria_on[cafeteria_on['위도'].isnull() == False]"
   ]
  },
  {
   "cell_type": "code",
   "execution_count": 12,
   "id": "5b0e7142",
   "metadata": {},
   "outputs": [
    {
     "name": "stdout",
     "output_type": "stream",
     "text": [
      "False    1087\n",
      "Name: 위도, dtype: int64\n",
      "False    1087\n",
      "Name: 경도, dtype: int64\n"
     ]
    }
   ],
   "source": [
    "print(cafeteria_on['위도'].isnull().value_counts())\n",
    "print(cafeteria_on['경도'].isnull().value_counts())"
   ]
  },
  {
   "cell_type": "code",
   "execution_count": 13,
   "id": "d09fbee9",
   "metadata": {},
   "outputs": [
    {
     "data": {
      "text/plain": [
       "월+화+수+목+금      429\n",
       "월+화+수+목+금+토    184\n",
       "월,화,수,목,금       41\n",
       "월~금             31\n",
       "월+수+금           20\n",
       "              ... \n",
       "매주 수             1\n",
       "2,3,4주 월         1\n",
       "월+화+목+금          1\n",
       "주1회(토)           1\n",
       "월+화+수+목+금+일      1\n",
       "Name: 급식요일, Length: 172, dtype: int64"
      ]
     },
     "execution_count": 13,
     "metadata": {},
     "output_type": "execute_result"
    }
   ],
   "source": [
    "# 급식요일 값 통일하기 \n",
    "cafeteria_on['급식요일'].value_counts()"
   ]
  },
  {
   "cell_type": "code",
   "execution_count": 14,
   "id": "ef7703d9",
   "metadata": {},
   "outputs": [
    {
     "name": "stderr",
     "output_type": "stream",
     "text": [
      "<ipython-input-14-149790b25646>:2: FutureWarning: The default value of regex will change from True to False in a future version. In addition, single character regular expressions will *not* be treated as literal strings when regex=True.\n",
      "  cafeteria_on['급식요일'] = cafeteria_on['급식요일'].str.replace('+', ',')\n"
     ]
    },
    {
     "data": {
      "text/plain": [
       "월,화,수,목,금      470\n",
       "월,화,수,목,금,토    188\n",
       "월~금             34\n",
       "월~토             31\n",
       "월,수,금           20\n",
       "              ... \n",
       "2,3,4주 월         1\n",
       "월,화,목,금          1\n",
       "주1회(토)           1\n",
       "주2회(월, 수)        1\n",
       "월,화,수,목,금,일      1\n",
       "Name: 급식요일, Length: 165, dtype: int64"
      ]
     },
     "execution_count": 14,
     "metadata": {},
     "output_type": "execute_result"
    }
   ],
   "source": [
    "# 통일하기\n",
    "cafeteria_on['급식요일'] = cafeteria_on['급식요일'].str.replace('+', ',')\n",
    "cafeteria_on['급식요일'] = cafeteria_on['급식요일'].str.replace('-', '~')\n",
    "cafeteria_on['급식요일'].value_counts()"
   ]
  },
  {
   "cell_type": "code",
   "execution_count": 15,
   "id": "d0781e03",
   "metadata": {},
   "outputs": [
    {
     "name": "stdout",
     "output_type": "stream",
     "text": [
      "0.12.1\n"
     ]
    }
   ],
   "source": [
    "#지도 시각화 필요한 라이브러리\n",
    "import json\n",
    "from pandas.io.json import json_normalize\n",
    "import os\n",
    "import folium\n",
    "from folium import plugins\n",
    "print(folium.__version__)"
   ]
  },
  {
   "cell_type": "code",
   "execution_count": 57,
   "id": "ad874ffd",
   "metadata": {},
   "outputs": [],
   "source": [
    "# 무료급식소 시각화 최종\n",
    "\n",
    "from folium import plugins # 플러그인 라이브러리\n",
    "import folium              # folium 지도 라이브러리\n",
    "#import geocoder\n",
    "\n",
    "\n",
    "from folium.plugins import MarkerCluster     # 군집 플러그인\n",
    "from folium.plugins import MeasureControl    # 거리 측정 플러그인\n",
    "from folium.plugins import Search            # 검색 플러그인\n",
    "from folium.plugins import MousePosition     # 마우스포인트 -> 위경도 플러그인\n",
    "from folium.plugins import Geocoder          # 검색 플러그인2\n",
    "\n",
    "# 바탕 지도 만들기 \n",
    "g_map = folium.Map(location = (cafeteria_on['위도'].mean(), cafeteria_on['경도'].mean()), tiles = 'OpenStreetMap',\n",
    "                  zoom_start = 15, width = '100%', height = '100%')\n",
    "\n",
    "# 마커 군집화 \n",
    "marker_cluster = folium.plugins.MarkerCluster().add_to(g_map)\n",
    "\n",
    "\n",
    "# 지도에 마커 표시하기\n",
    "for name, call, time, day, p_type,lat, lng in zip(cafeteria_on.시설명,cafeteria_on.전화번호,cafeteria_on.급식시간,\n",
    "                                                  cafeteria_on.급식요일,cafeteria_on.급식대상,\n",
    "                                                  cafeteria_on.위도, cafeteria_on.경도):\n",
    "    iframe = name+ '<br>'+'전화번호: '+ str(call) + '<br>' +'운영시간: '+ str(time) + '<br>' +'운영요일: '+ str(day) +  '<br>' +'급식대상: '+ str(p_type) \n",
    "    popup1 = folium.Popup(iframe, max_width = 650, max_height = 300)\n",
    "    folium.Marker([lat, lng],icon = folium.Icon(color = 'purple',icon = 'cloud'), popup = popup1).add_to(marker_cluster)\n",
    "\n",
    "\n",
    "\n",
    "# 검색 기능,,, 작동 안됨,,, \n",
    "Search(layer = marker_cluster,\n",
    "       geom_type='Point',\n",
    "       placeholder=\"장소 검색\",\n",
    "       search_label= 'name',\n",
    "       search_zoom=30,\n",
    "       collapsed=False,\n",
    "       position='topright').add_to(g_map)  # 검색창 \n",
    "\n",
    "# 기능 플러그인 \n",
    "plugins.LocateControl(auto_start=True, strings={\"title\": \"내 현재위치\"}).add_to(g_map)    # 현위치 버튼\n",
    "plugins.Geocoder(placeholder=\"장소 검색\").add_to(g_map)                        # 검색 기능2\n",
    "g_map.add_child(MeasureControl())                       # 거리 측정 버튼\n",
    "MousePosition().add_to(g_map)                           # 마우스 포인트 기능\n",
    "\n",
    "\n",
    "#folium.LayerControl(collapsed=False).add_to(g_map)     # 범주화 목록 \n",
    "\n",
    "g_map.save('전국_무료_급식소_최종.html')  \n",
    "\n",
    "\n",
    "#html 소스 출력\n",
    "#html_gmap = g_map.get_root().render() \n",
    "#folium.Map().get_root().render() 를 이용하면 html 파일을 저장하는거 말고 html 소스를 리턴할 수 있다.\n",
    "#out = open('전국_무료_급식소_소스.txt', 'w')\n",
    "#print(html_gmap,file = out)"
   ]
  },
  {
   "cell_type": "code",
   "execution_count": 42,
   "id": "29f4a354",
   "metadata": {
    "scrolled": false
   },
   "outputs": [
    {
     "name": "stdout",
     "output_type": "stream",
     "text": [
      "Help on class Icon in module folium.map:\n",
      "\n",
      "class Icon(branca.element.MacroElement)\n",
      " |  Icon(color='blue', icon_color='white', icon='info-sign', angle=0, prefix='glyphicon', **kwargs)\n",
      " |  \n",
      " |  Creates an Icon object that will be rendered\n",
      " |  using Leaflet.awesome-markers.\n",
      " |  \n",
      " |  Parameters\n",
      " |  ----------\n",
      " |  color : str, default 'blue'\n",
      " |      The color of the marker. You can use:\n",
      " |  \n",
      " |          ['red', 'blue', 'green', 'purple', 'orange', 'darkred',\n",
      " |           'lightred', 'beige', 'darkblue', 'darkgreen', 'cadetblue',\n",
      " |           'darkpurple', 'white', 'pink', 'lightblue', 'lightgreen',\n",
      " |           'gray', 'black', 'lightgray']\n",
      " |  \n",
      " |  icon_color : str, default 'white'\n",
      " |      The color of the drawing on the marker. You can use colors above,\n",
      " |      or an html color code.\n",
      " |  icon : str, default 'info-sign'\n",
      " |      The name of the marker sign.\n",
      " |      See Font-Awesome website to choose yours.\n",
      " |      Warning : depending on the icon you choose you may need to adapt\n",
      " |      the `prefix` as well.\n",
      " |  angle : int, default 0\n",
      " |      The icon will be rotated by this amount of degrees.\n",
      " |  prefix : str, default 'glyphicon'\n",
      " |      The prefix states the source of the icon. 'fa' for font-awesome or\n",
      " |      'glyphicon' for bootstrap 3.\n",
      " |  \n",
      " |  https://github.com/lvoogdt/Leaflet.awesome-markers\n",
      " |  \n",
      " |  Method resolution order:\n",
      " |      Icon\n",
      " |      branca.element.MacroElement\n",
      " |      branca.element.Element\n",
      " |      builtins.object\n",
      " |  \n",
      " |  Methods defined here:\n",
      " |  \n",
      " |  __init__(self, color='blue', icon_color='white', icon='info-sign', angle=0, prefix='glyphicon', **kwargs)\n",
      " |      Initialize self.  See help(type(self)) for accurate signature.\n",
      " |  \n",
      " |  ----------------------------------------------------------------------\n",
      " |  Data and other attributes defined here:\n",
      " |  \n",
      " |  color_options = {'beige', 'black', 'blue', 'cadetblue', 'darkblue', 'd...\n",
      " |  \n",
      " |  ----------------------------------------------------------------------\n",
      " |  Methods inherited from branca.element.MacroElement:\n",
      " |  \n",
      " |  render(self, **kwargs)\n",
      " |      Renders the HTML representation of the element.\n",
      " |  \n",
      " |  ----------------------------------------------------------------------\n",
      " |  Methods inherited from branca.element.Element:\n",
      " |  \n",
      " |  add_child(self, child, name=None, index=None)\n",
      " |      Add a child.\n",
      " |  \n",
      " |  add_children(self, child, name=None, index=None)\n",
      " |      Add a child.\n",
      " |  \n",
      " |  add_to(self, parent, name=None, index=None)\n",
      " |      Add element to a parent.\n",
      " |  \n",
      " |  get_bounds(self)\n",
      " |      Computes the bounds of the object and all it's children\n",
      " |      in the form [[lat_min, lon_min], [lat_max, lon_max]].\n",
      " |  \n",
      " |  get_name(self)\n",
      " |      Returns a string representation of the object.\n",
      " |      This string has to be unique and to be a python and\n",
      " |      javascript-compatible\n",
      " |      variable name.\n",
      " |  \n",
      " |  get_root(self)\n",
      " |      Returns the root of the elements tree.\n",
      " |  \n",
      " |  save(self, outfile, close_file=True, **kwargs)\n",
      " |      Saves an Element into a file.\n",
      " |      \n",
      " |      Parameters\n",
      " |      ----------\n",
      " |      outfile : str or file object\n",
      " |          The file (or filename) where you want to output the html.\n",
      " |      close_file : bool, default True\n",
      " |          Whether the file has to be closed after write.\n",
      " |  \n",
      " |  to_dict(self, depth=-1, ordered=True, **kwargs)\n",
      " |      Returns a dict representation of the object.\n",
      " |  \n",
      " |  to_json(self, depth=-1, **kwargs)\n",
      " |      Returns a JSON representation of the object.\n",
      " |  \n",
      " |  ----------------------------------------------------------------------\n",
      " |  Data descriptors inherited from branca.element.Element:\n",
      " |  \n",
      " |  __dict__\n",
      " |      dictionary for instance variables (if defined)\n",
      " |  \n",
      " |  __weakref__\n",
      " |      list of weak references to the object (if defined)\n",
      "\n"
     ]
    }
   ],
   "source": [
    "help(folium.Icon)"
   ]
  },
  {
   "cell_type": "code",
   "execution_count": 15,
   "id": "8aea5505",
   "metadata": {},
   "outputs": [
    {
     "name": "stdout",
     "output_type": "stream",
     "text": [
      "          가맹점명  가맹점유형코드    시도명 시군구명  시군구코드                      소재지도로명주소  \\\n",
      "0   GS25 엄궁동일점        3  부산광역시  사상구  33900       부산광역시 사상구 낙동대로 751(엄궁동)   \n",
      "1  GS25 엄궁사거리점        3  부산광역시  사상구  33900       부산광역시 사상구 낙동대로 790(엄궁동)   \n",
      "2   GS25 주례동서점        3  부산광역시  사상구  33900          부산광역시 사상구 주례로 7(주례동)   \n",
      "3  GS25 주례무지개점        3  부산광역시  사상구  33900        부산광역시 사상구 주례로 101(주례동)   \n",
      "4   GS25 주례여고점        3  부산광역시  사상구  33900  부산광역시 사상구 가야대로366번길119 (주례동)   \n",
      "\n",
      "  소재지지번주소         위도          경도          전화번호  ... 토요일운영종료시각 공휴일운영시작시각  \\\n",
      "0     NaN  35.128450  128.969467  051-311-3383  ...     23:59     00:00   \n",
      "1     NaN  35.131031  128.972449  051-323-3909  ...     23:59     00:00   \n",
      "2     NaN  35.150397  129.011586  051-642-2277  ...     23:59     00:00   \n",
      "3     NaN  35.146178  129.005201  051-928-0017  ...     23:59     00:00   \n",
      "4     NaN  35.145766  129.013526  051-313-1758  ...     23:59     00:00   \n",
      "\n",
      "  공휴일운영종료시각 배달시작시각 배달종료시각      관리기관명      관리기관전화번호     데이터기준일자   제공기관코드  \\\n",
      "0     23:59  00:00  00:00  부산광역시 사상구  051-310-4294  2021-06-30  3390000   \n",
      "1     23:59  00:00  00:00  부산광역시 사상구  051-310-4294  2021-06-30  3390000   \n",
      "2     23:59  00:00  00:00  부산광역시 사상구  051-310-4294  2021-06-30  3390000   \n",
      "3     23:59  00:00  00:00  부산광역시 사상구  051-310-4294  2021-06-30  3390000   \n",
      "4     23:59  00:00  00:00  부산광역시 사상구  051-310-4294  2021-06-30  3390000   \n",
      "\n",
      "       제공기관명  \n",
      "0  부산광역시 사상구  \n",
      "1  부산광역시 사상구  \n",
      "2  부산광역시 사상구  \n",
      "3  부산광역시 사상구  \n",
      "4  부산광역시 사상구  \n",
      "\n",
      "[5 rows x 23 columns]\n",
      "<class 'pandas.core.frame.DataFrame'>\n",
      "RangeIndex: 33854 entries, 0 to 33853\n",
      "Data columns (total 23 columns):\n",
      " #   Column     Non-Null Count  Dtype  \n",
      "---  ------     --------------  -----  \n",
      " 0   가맹점명       33854 non-null  object \n",
      " 1   가맹점유형코드    33854 non-null  int64  \n",
      " 2   시도명        33854 non-null  object \n",
      " 3   시군구명       33854 non-null  object \n",
      " 4   시군구코드      33854 non-null  int64  \n",
      " 5   소재지도로명주소   33485 non-null  object \n",
      " 6   소재지지번주소    22944 non-null  object \n",
      " 7   위도         33215 non-null  float64\n",
      " 8   경도         33205 non-null  float64\n",
      " 9   전화번호       33854 non-null  object \n",
      " 10  평일운영시작시각   33778 non-null  object \n",
      " 11  평일운영종료시각   33854 non-null  object \n",
      " 12  토요일운영시작시각  33778 non-null  object \n",
      " 13  토요일운영종료시각  33854 non-null  object \n",
      " 14  공휴일운영시작시각  33778 non-null  object \n",
      " 15  공휴일운영종료시각  33854 non-null  object \n",
      " 16  배달시작시각     33778 non-null  object \n",
      " 17  배달종료시각     33778 non-null  object \n",
      " 18  관리기관명      33854 non-null  object \n",
      " 19  관리기관전화번호   33854 non-null  object \n",
      " 20  데이터기준일자    33854 non-null  object \n",
      " 21  제공기관코드     33854 non-null  int64  \n",
      " 22  제공기관명      33854 non-null  object \n",
      "dtypes: float64(2), int64(3), object(18)\n",
      "memory usage: 5.9+ MB\n",
      "None\n"
     ]
    }
   ],
   "source": [
    "# 전국 아동 급식 지원 가맹점 \n",
    "print(restaurant.head())\n",
    "print(restaurant.info())"
   ]
  },
  {
   "cell_type": "code",
   "execution_count": 46,
   "id": "8080de1e",
   "metadata": {},
   "outputs": [
    {
     "name": "stdout",
     "output_type": "stream",
     "text": [
      "False    33215\n",
      "True       639\n",
      "Name: 위도, dtype: int64\n",
      "False    33205\n",
      "True       649\n",
      "Name: 경도, dtype: int64\n"
     ]
    }
   ],
   "source": [
    "# 아동 급식 지원 가맹점\n",
    "# 결측치 정리\n",
    "print(restaurant['위도'].isnull().value_counts())\n",
    "print(restaurant['경도'].isnull().value_counts())"
   ]
  },
  {
   "cell_type": "code",
   "execution_count": 47,
   "id": "93758bf3",
   "metadata": {},
   "outputs": [],
   "source": [
    "# 결측치 제거\n",
    "restaurant_on = restaurant[restaurant['위도'].isnull() == False]\n",
    "restaurant_on = restaurant_on[restaurant_on['경도'].isnull() == False]"
   ]
  },
  {
   "cell_type": "code",
   "execution_count": 48,
   "id": "e80ff6dc",
   "metadata": {},
   "outputs": [
    {
     "name": "stdout",
     "output_type": "stream",
     "text": [
      "False    33186\n",
      "Name: 위도, dtype: int64\n",
      "False    33186\n",
      "Name: 경도, dtype: int64\n"
     ]
    }
   ],
   "source": [
    "print(restaurant_on['위도'].isnull().value_counts())\n",
    "print(restaurant_on['경도'].isnull().value_counts())"
   ]
  },
  {
   "cell_type": "code",
   "execution_count": 49,
   "id": "9032ee94",
   "metadata": {},
   "outputs": [
    {
     "name": "stdout",
     "output_type": "stream",
     "text": [
      "0    00:00~23:59\n",
      "1    00:00~23:59\n",
      "2    00:00~23:59\n",
      "3    00:00~23:59\n",
      "4    00:00~23:59\n",
      "Name: 평일운영시간, dtype: object\n",
      "0    00:00~23:59\n",
      "1    00:00~23:59\n",
      "2    00:00~23:59\n",
      "3    00:00~23:59\n",
      "4    00:00~23:59\n",
      "Name: 토요일운영시간, dtype: object\n",
      "0    00:00~23:59\n",
      "1    00:00~23:59\n",
      "2    00:00~23:59\n",
      "3    00:00~23:59\n",
      "4    00:00~23:59\n",
      "Name: 공휴일운영시간, dtype: object\n"
     ]
    }
   ],
   "source": [
    "# 운영시간 파생변수 생성 \n",
    "cols = ['평일운영시작시각', '평일운영종료시각']\n",
    "restaurant_on['평일운영시간'] = restaurant_on[cols].apply(lambda row: '~'. join(row.values.astype(str)), axis =1)\n",
    "print(restaurant_on['평일운영시간'].head())\n",
    "\n",
    "cols = ['토요일운영시작시각', '토요일운영종료시각']\n",
    "restaurant_on['토요일운영시간'] = restaurant_on[cols].apply(lambda row: '~'. join(row.values.astype(str)), axis =1)\n",
    "print(restaurant_on['토요일운영시간'].head())\n",
    "\n",
    "cols = ['공휴일운영시작시각', '공휴일운영종료시각']\n",
    "restaurant_on['공휴일운영시간'] = restaurant_on[cols].apply(lambda row: '~'. join(row.values.astype(str)), axis =1)\n",
    "print(restaurant_on['공휴일운영시간'].head())"
   ]
  },
  {
   "cell_type": "code",
   "execution_count": 58,
   "id": "66b81f24",
   "metadata": {},
   "outputs": [],
   "source": [
    "# 아동급식카드 가맹점 시각화 최종\n",
    "\n",
    "import geocoder      \n",
    "import folium\n",
    "\n",
    "\n",
    "from folium.plugins import MarkerCluster    # 군집화 플러그인\n",
    "from folium.plugins import MeasureControl   # 거리측정 플러그인\n",
    "from folium.plugins import MousePosition     # 마우스포인트 -> 위경도 플러그인\n",
    "from folium.plugins import Search           # 검색 플러그인\n",
    "from folium.plugins import Geocoder         # 검색기능2 플러그인\n",
    "\n",
    "# 바탕 지도 \n",
    "g_map = folium.Map(location = (restaurant_on['위도'].mean(), restaurant_on['경도'].mean()), tiles = 'OpenStreetMap',\n",
    "                  zoom_start = 15, width = '100%', height = '100%')\n",
    "\n",
    "# 마커 군집화 \n",
    "marker_cluster = MarkerCluster().add_to(g_map)\n",
    "\n",
    "\n",
    "# 지도에 마커 생성\n",
    "for name, call,time1,time2, lat, lng in zip(restaurant_on.가맹점명, restaurant_on.전화번호, restaurant_on.평일운영시간,\n",
    "                                            restaurant_on.토요일운영시간, restaurant_on.위도, restaurant_on.경도):\n",
    "    iframe = name +'<br>'+ '전화번호: '+ str(call)+ '<br>' + '평일운영시간: '+ str(time1) +'<br>' + '토요일운영시간: '+ str(time2) \n",
    "    popup1 = folium.Popup(iframe, max_width = 650, max_height = 300)\n",
    "    folium.Marker([lat, lng],\n",
    "                   icon = folium.Icon(icon = 'cloud',color = 'purple'),\n",
    "                    popup = popup1\n",
    "                  ).add_to(marker_cluster)\n",
    "\n",
    "    \n",
    "# 검색기능,,, 안됨,, \n",
    "Search(layer= marker_cluster,\n",
    "       geom_type='Point',\n",
    "       placeholder=\"장소 검색\",\n",
    "       search_label= 'name',\n",
    "       search_zoom=30,\n",
    "       collapsed=False,\n",
    "       position='topright').add_to(g_map)  # 검색\n",
    "\n",
    "plugins.LocateControl(auto_start=True, strings={\"title\": \"내 현재위치\"}).add_to(g_map)   # 현위치 버튼\n",
    "plugins.Geocoder(placeholder=\"장소 검색\").add_to(g_map)                       # 검색기능 2 \n",
    "g_map.add_child(MeasureControl())                      # 거리측정 버튼\n",
    "MousePosition().add_to(g_map)                           # 마우스 포인트 기능\n",
    "\n",
    "g_map.save('전국_아동급식카드_가맹점_최종.html') \n",
    "\n",
    "\n",
    "#html 소스 출력\n",
    "#html_gmap = g_map.get_root().render() \n",
    "#folium.Map().get_root().render() 를 이용하면 html 파일을 저장하는거 말고 html 소스를 리턴할 수 있다.\n",
    "#out = open('전국_무료_급식소_소스.txt', 'w')\n",
    "#print(html_gmap,file = out)"
   ]
  },
  {
   "cell_type": "code",
   "execution_count": 51,
   "id": "87b1bd90",
   "metadata": {},
   "outputs": [
    {
     "name": "stderr",
     "output_type": "stream",
     "text": [
      "C:\\Users\\Yuna park\\anaconda3\\lib\\site-packages\\geopandas\\array.py:85: ShapelyDeprecationWarning: __len__ for multi-part geometries is deprecated and will be removed in Shapely 2.0. Check the length of the `geoms` property instead to get the  number of parts of a multi-part geometry.\n",
      "  aout[:] = out\n"
     ]
    },
    {
     "data": {
      "text/html": [
       "<div>\n",
       "<style scoped>\n",
       "    .dataframe tbody tr th:only-of-type {\n",
       "        vertical-align: middle;\n",
       "    }\n",
       "\n",
       "    .dataframe tbody tr th {\n",
       "        vertical-align: top;\n",
       "    }\n",
       "\n",
       "    .dataframe thead th {\n",
       "        text-align: right;\n",
       "    }\n",
       "</style>\n",
       "<table border=\"1\" class=\"dataframe\">\n",
       "  <thead>\n",
       "    <tr style=\"text-align: right;\">\n",
       "      <th></th>\n",
       "      <th>id</th>\n",
       "      <th>CONTENTS_NAME</th>\n",
       "      <th>IMG_MAIN_URL</th>\n",
       "      <th>ADDR_OLD</th>\n",
       "      <th>ADDR_NEW</th>\n",
       "      <th>COORD_DATA</th>\n",
       "      <th>COORD_X</th>\n",
       "      <th>COORD_Y</th>\n",
       "      <th>TEL_NO</th>\n",
       "      <th>CONTENTS_DETAIL</th>\n",
       "      <th>...</th>\n",
       "      <th>LINE_COLOR</th>\n",
       "      <th>LINE_WEIGHT</th>\n",
       "      <th>MOVIE_URL</th>\n",
       "      <th>VOICE_URL</th>\n",
       "      <th>NATION_BASE_AREA</th>\n",
       "      <th>NATION_POINT_NUMBER</th>\n",
       "      <th>LAN_TYPE</th>\n",
       "      <th>KEYWORD</th>\n",
       "      <th>SUB_ID</th>\n",
       "      <th>geometry</th>\n",
       "    </tr>\n",
       "  </thead>\n",
       "  <tbody>\n",
       "    <tr>\n",
       "      <th>0</th>\n",
       "      <td>0</td>\n",
       "      <td>종로1973</td>\n",
       "      <td>/smgis/ucimgs/conts/11102795/goodshop_0042_1_K...</td>\n",
       "      <td>강원도 춘천시 동내면 거두리 966-1</td>\n",
       "      <td>강원도 춘천시 춘천순환로72번길 33-14</td>\n",
       "      <td></td>\n",
       "      <td>127.754851192</td>\n",
       "      <td>37.853638095</td>\n",
       "      <td>033-264-9286</td>\n",
       "      <td></td>\n",
       "      <td>...</td>\n",
       "      <td>#0000FF</td>\n",
       "      <td>4</td>\n",
       "      <td></td>\n",
       "      <td></td>\n",
       "      <td>24405</td>\n",
       "      <td>라사22418379</td>\n",
       "      <td>KOR</td>\n",
       "      <td></td>\n",
       "      <td></td>\n",
       "      <td>GEOMETRYCOLLECTION (POINT (127.75490 37.85360))</td>\n",
       "    </tr>\n",
       "    <tr>\n",
       "      <th>1</th>\n",
       "      <td>1</td>\n",
       "      <td>골목닭갈비</td>\n",
       "      <td>/smgis/ucimgs/conts/11102795/goodshop_0042_1_K...</td>\n",
       "      <td>강원도 태백시 장성동 159-17</td>\n",
       "      <td>강원도 태백시 장성로 34-1</td>\n",
       "      <td></td>\n",
       "      <td>129.009462946</td>\n",
       "      <td>37.101884761</td>\n",
       "      <td>033-581-7911</td>\n",
       "      <td></td>\n",
       "      <td>...</td>\n",
       "      <td>#0000FF</td>\n",
       "      <td>4</td>\n",
       "      <td></td>\n",
       "      <td></td>\n",
       "      <td>26052</td>\n",
       "      <td>마사3413142</td>\n",
       "      <td>KOR</td>\n",
       "      <td></td>\n",
       "      <td></td>\n",
       "      <td>GEOMETRYCOLLECTION (POINT (129.00950 37.10190))</td>\n",
       "    </tr>\n",
       "    <tr>\n",
       "      <th>2</th>\n",
       "      <td>10</td>\n",
       "      <td>해장국마을(마이갓감자탕)</td>\n",
       "      <td>/smgis/ucimgs/conts/11102795/goodshop_0042_1_K...</td>\n",
       "      <td>강원도 강릉시 강동면 안인진리 102-1</td>\n",
       "      <td>강원도 강릉시 안인진길 26</td>\n",
       "      <td></td>\n",
       "      <td>128.988481654</td>\n",
       "      <td>37.734466536</td>\n",
       "      <td>033-645-0825</td>\n",
       "      <td></td>\n",
       "      <td>...</td>\n",
       "      <td>#0000FF</td>\n",
       "      <td>4</td>\n",
       "      <td></td>\n",
       "      <td></td>\n",
       "      <td>25626</td>\n",
       "      <td>마사31157158</td>\n",
       "      <td>KOR</td>\n",
       "      <td></td>\n",
       "      <td></td>\n",
       "      <td>GEOMETRYCOLLECTION (POINT (128.98850 37.73450))</td>\n",
       "    </tr>\n",
       "    <tr>\n",
       "      <th>3</th>\n",
       "      <td>100</td>\n",
       "      <td>홍두깨샤브샤브만두전골</td>\n",
       "      <td>/smgis/ucimgs/conts/11102795/goodshop_0042_1_K...</td>\n",
       "      <td>경기도 군포시 산본동 1060-1</td>\n",
       "      <td>경기도 군포시 고산로 693</td>\n",
       "      <td></td>\n",
       "      <td>126.935114143</td>\n",
       "      <td>37.371895668</td>\n",
       "      <td>031-399-2263</td>\n",
       "      <td></td>\n",
       "      <td>...</td>\n",
       "      <td>#0000FF</td>\n",
       "      <td>4</td>\n",
       "      <td></td>\n",
       "      <td></td>\n",
       "      <td>15802</td>\n",
       "      <td>다사49983046</td>\n",
       "      <td>KOR</td>\n",
       "      <td></td>\n",
       "      <td></td>\n",
       "      <td>GEOMETRYCOLLECTION (POINT (126.93510 37.37190))</td>\n",
       "    </tr>\n",
       "    <tr>\n",
       "      <th>4</th>\n",
       "      <td>1000</td>\n",
       "      <td>금룡중화요리</td>\n",
       "      <td>/smgis/ucimgs/conts/11102795/goodshop_0042_1_K...</td>\n",
       "      <td>경상남도 창원시 성산구 반지동 78</td>\n",
       "      <td>경상남도 창원시 성산구 원이대로393번길 25</td>\n",
       "      <td></td>\n",
       "      <td>128.662977907</td>\n",
       "      <td>35.239687673</td>\n",
       "      <td>055-276-5442</td>\n",
       "      <td></td>\n",
       "      <td>...</td>\n",
       "      <td>#0000FF</td>\n",
       "      <td>4</td>\n",
       "      <td></td>\n",
       "      <td></td>\n",
       "      <td>51420</td>\n",
       "      <td>마라5819442</td>\n",
       "      <td>KOR</td>\n",
       "      <td></td>\n",
       "      <td></td>\n",
       "      <td>GEOMETRYCOLLECTION (POINT (128.66300 35.23970))</td>\n",
       "    </tr>\n",
       "  </tbody>\n",
       "</table>\n",
       "<p>5 rows × 65 columns</p>\n",
       "</div>"
      ],
      "text/plain": [
       "     id  CONTENTS_NAME                                       IMG_MAIN_URL  \\\n",
       "0     0         종로1973  /smgis/ucimgs/conts/11102795/goodshop_0042_1_K...   \n",
       "1     1          골목닭갈비  /smgis/ucimgs/conts/11102795/goodshop_0042_1_K...   \n",
       "2    10  해장국마을(마이갓감자탕)  /smgis/ucimgs/conts/11102795/goodshop_0042_1_K...   \n",
       "3   100    홍두깨샤브샤브만두전골  /smgis/ucimgs/conts/11102795/goodshop_0042_1_K...   \n",
       "4  1000         금룡중화요리  /smgis/ucimgs/conts/11102795/goodshop_0042_1_K...   \n",
       "\n",
       "                 ADDR_OLD                   ADDR_NEW COORD_DATA  \\\n",
       "0   강원도 춘천시 동내면 거두리 966-1    강원도 춘천시 춘천순환로72번길 33-14              \n",
       "1      강원도 태백시 장성동 159-17           강원도 태백시 장성로 34-1              \n",
       "2  강원도 강릉시 강동면 안인진리 102-1            강원도 강릉시 안인진길 26              \n",
       "3      경기도 군포시 산본동 1060-1            경기도 군포시 고산로 693              \n",
       "4     경상남도 창원시 성산구 반지동 78  경상남도 창원시 성산구 원이대로393번길 25              \n",
       "\n",
       "         COORD_X       COORD_Y        TEL_NO CONTENTS_DETAIL  ... LINE_COLOR  \\\n",
       "0  127.754851192  37.853638095  033-264-9286                  ...    #0000FF   \n",
       "1  129.009462946  37.101884761  033-581-7911                  ...    #0000FF   \n",
       "2  128.988481654  37.734466536  033-645-0825                  ...    #0000FF   \n",
       "3  126.935114143  37.371895668  031-399-2263                  ...    #0000FF   \n",
       "4  128.662977907  35.239687673  055-276-5442                  ...    #0000FF   \n",
       "\n",
       "  LINE_WEIGHT MOVIE_URL VOICE_URL NATION_BASE_AREA NATION_POINT_NUMBER  \\\n",
       "0           4                                24405          라사22418379   \n",
       "1           4                                26052           마사3413142   \n",
       "2           4                                25626          마사31157158   \n",
       "3           4                                15802          다사49983046   \n",
       "4           4                                51420           마라5819442   \n",
       "\n",
       "  LAN_TYPE KEYWORD SUB_ID                                         geometry  \n",
       "0      KOR                 GEOMETRYCOLLECTION (POINT (127.75490 37.85360))  \n",
       "1      KOR                 GEOMETRYCOLLECTION (POINT (129.00950 37.10190))  \n",
       "2      KOR                 GEOMETRYCOLLECTION (POINT (128.98850 37.73450))  \n",
       "3      KOR                 GEOMETRYCOLLECTION (POINT (126.93510 37.37190))  \n",
       "4      KOR                 GEOMETRYCOLLECTION (POINT (128.66300 35.23970))  \n",
       "\n",
       "[5 rows x 65 columns]"
      ]
     },
     "execution_count": 51,
     "metadata": {},
     "output_type": "execute_result"
    }
   ],
   "source": [
    "# 선한영항력 지도 \n",
    "import geopandas as gpd\n",
    "df = gpd.read_file('cafeteria/11102795_20211109205731.geojson', encoding = 'utf-8')\n",
    "df.head()"
   ]
  },
  {
   "cell_type": "code",
   "execution_count": 59,
   "id": "9053ffba",
   "metadata": {},
   "outputs": [
    {
     "name": "stderr",
     "output_type": "stream",
     "text": [
      "C:\\Users\\Yuna park\\anaconda3\\lib\\site-packages\\pyproj\\crs\\crs.py:131: FutureWarning: '+init=<authority>:<code>' syntax is deprecated. '<authority>:<code>' is the preferred initialization method. When making the change, be mindful of axis order changes: https://pyproj4.github.io/pyproj/stable/gotchas.html#axis-order-changes-in-proj-6\n",
      "  in_crs_string = _prepare_from_proj_string(in_crs_string)\n",
      "C:\\Users\\Yuna park\\anaconda3\\lib\\site-packages\\geopandas\\array.py:85: ShapelyDeprecationWarning: __len__ for multi-part geometries is deprecated and will be removed in Shapely 2.0. Check the length of the `geoms` property instead to get the  number of parts of a multi-part geometry.\n",
      "  aout[:] = out\n"
     ]
    }
   ],
   "source": [
    "# 선한영항력 \n",
    "from folium import plugins\n",
    "import folium\n",
    "import geocoder\n",
    "\n",
    "\n",
    "from folium.plugins import MarkerCluster    # 군집화 플러그인\n",
    "from folium.plugins import MeasureControl   # 거리측정 플러그인\n",
    "from folium.plugins import MousePosition     # 마우스포인트 -> 위경도 플러그인\n",
    "from folium.plugins import Search           # 검색 플러그인\n",
    "\n",
    "\n",
    "# 바탕지도\n",
    "g = geocoder.ip('me')\n",
    "g_map = folium.Map(location= g.latlng, zoom_start = 15, width = '100%', height = '100%')\n",
    "#g_map = folium.Map(location= (df['COORD_Y'].mean(),df['COORD_X'].mean()), zoom_start = 15, width = '100%', height = '100%')\n",
    "\n",
    "marker_cluster = MarkerCluster().add_to(g_map)\n",
    "\n",
    "\n",
    "\n",
    "# 지도 위 마커 생성\n",
    "for name, call, lat, lng in zip(df.CONTENTS_NAME,df.TEL_NO,df.COORD_Y, df.COORD_X):\n",
    "    iframe = name + '<br>' + '전화번호: '+ str(call)\n",
    "    popup1 = folium.Popup(iframe, max_width = 650, max_height = 300)\n",
    "    mark =folium.Marker([lat, lng],icon = folium.Icon(icon = 'cloud',color = 'purple'),popup = popup1).add_to(marker_cluster)\n",
    "\n",
    "\n",
    "\n",
    "# 검색 연동을 위해 geojson 변환    \n",
    "#marker_geojson = folium.GeoJson(df, overlay = False, control = False, show = False, embed = False).add_to(g_map)\n",
    "marker_geojson = folium.GeoJson(df, marker = mark, popup = popup1 ,embed=False).add_to(g_map)\n",
    "\n",
    "\n",
    "# 검색\n",
    "Search(layer= marker_geojson,\n",
    "       geom_type='Point',\n",
    "       placeholder=\"장소 검색\",\n",
    "       search_label= 'CONTENTS_NAME',\n",
    "       search_zoom=30,\n",
    "       collapsed= False,\n",
    "       position='topright').add_to(g_map)  \n",
    "\n",
    "\n",
    "plugins.LocateControl(auto_start=True, strings={\"title\": \"내 현재위치\"}).add_to(g_map)   # 현위치 버튼\n",
    "g_map.add_child(MeasureControl())                      # 거리측정 버튼\n",
    "MousePosition().add_to(g_map)                           # 마우스 포인트 기능\n",
    "#plugins.Geocoder().add_to(g_map)\n",
    "\n",
    "\n",
    "\n",
    "g_map.save('선한영향력가게_최종.html') \n",
    "#html_gmap = g_map.get_root().render() \n",
    "#folium.Map().get_root().render() 를 이용하면 html 파일을 저장하는거 말고 html 소스를 리턴할 수 있다."
   ]
  },
  {
   "cell_type": "code",
   "execution_count": 40,
   "id": "cbabbd80",
   "metadata": {},
   "outputs": [
    {
     "name": "stdout",
     "output_type": "stream",
     "text": [
      "Collecting SpeechRecognition\n",
      "  Downloading SpeechRecognition-3.8.1-py2.py3-none-any.whl (32.8 MB)\n",
      "Installing collected packages: SpeechRecognition\n",
      "Successfully installed SpeechRecognition-3.8.1\n"
     ]
    }
   ],
   "source": [
    "#!pip install SpeechRecognition"
   ]
  },
  {
   "cell_type": "code",
   "execution_count": 43,
   "id": "1fe6d92a",
   "metadata": {
    "scrolled": true
   },
   "outputs": [
    {
     "name": "stdout",
     "output_type": "stream",
     "text": [
      "Collecting gtts\n",
      "  Downloading gTTS-2.2.3-py3-none-any.whl (25 kB)\n",
      "Requirement already satisfied: six in c:\\users\\yuna park\\anaconda3\\lib\\site-packages (from gtts) (1.16.0)\n",
      "Requirement already satisfied: click in c:\\users\\yuna park\\anaconda3\\lib\\site-packages (from gtts) (7.1.2)\n",
      "Requirement already satisfied: requests in c:\\users\\yuna park\\anaconda3\\lib\\site-packages (from gtts) (2.25.1)\n",
      "Requirement already satisfied: idna<3,>=2.5 in c:\\users\\yuna park\\anaconda3\\lib\\site-packages (from requests->gtts) (2.10)\n",
      "Requirement already satisfied: certifi>=2017.4.17 in c:\\users\\yuna park\\anaconda3\\lib\\site-packages (from requests->gtts) (2020.12.5)\n",
      "Requirement already satisfied: chardet<5,>=3.0.2 in c:\\users\\yuna park\\anaconda3\\lib\\site-packages (from requests->gtts) (4.0.0)\n",
      "Requirement already satisfied: urllib3<1.27,>=1.21.1 in c:\\users\\yuna park\\anaconda3\\lib\\site-packages (from requests->gtts) (1.26.4)\n",
      "Installing collected packages: gtts\n",
      "Successfully installed gtts-2.2.3\n"
     ]
    }
   ],
   "source": [
    "#!pip install gtts"
   ]
  },
  {
   "cell_type": "code",
   "execution_count": 46,
   "id": "83651060",
   "metadata": {},
   "outputs": [
    {
     "name": "stdout",
     "output_type": "stream",
     "text": [
      "Collecting playsound\n",
      "  Downloading playsound-1.3.0.tar.gz (7.7 kB)\n",
      "Building wheels for collected packages: playsound\n",
      "  Building wheel for playsound (setup.py): started\n",
      "  Building wheel for playsound (setup.py): finished with status 'done'\n",
      "  Created wheel for playsound: filename=playsound-1.3.0-py3-none-any.whl size=7026 sha256=54269edbe50b21b76dfe63ed24ec41acf37cd75a7b1ef8d07b281272dd4e7ea7\n",
      "  Stored in directory: c:\\users\\yuna park\\appdata\\local\\pip\\cache\\wheels\\73\\cd\\cf\\9750b618d54bd81c20e4c34fb24a423a5b095920367cdb3f71\n",
      "Successfully built playsound\n",
      "Installing collected packages: playsound\n",
      "Successfully installed playsound-1.3.0\n"
     ]
    }
   ],
   "source": [
    "#!pip3 install playsound"
   ]
  },
  {
   "cell_type": "code",
   "execution_count": 48,
   "id": "f186b953",
   "metadata": {},
   "outputs": [
    {
     "name": "stdout",
     "output_type": "stream",
     "text": [
      "Collecting pyttsx3\n",
      "  Downloading pyttsx3-2.90-py3-none-any.whl (39 kB)\n",
      "Requirement already satisfied: pywin32 in c:\\users\\yuna park\\anaconda3\\lib\\site-packages (from pyttsx3) (227)\n",
      "Requirement already satisfied: comtypes in c:\\users\\yuna park\\anaconda3\\lib\\site-packages (from pyttsx3) (1.1.9)\n",
      "Collecting pypiwin32\n",
      "  Downloading pypiwin32-223-py3-none-any.whl (1.7 kB)\n",
      "Installing collected packages: pypiwin32, pyttsx3\n",
      "Successfully installed pypiwin32-223 pyttsx3-2.90\n"
     ]
    }
   ],
   "source": [
    "#!pip install pyttsx3  "
   ]
  },
  {
   "cell_type": "code",
   "execution_count": 41,
   "id": "bdca599d",
   "metadata": {},
   "outputs": [
    {
     "data": {
      "text/plain": [
       "'3.8.1'"
      ]
     },
     "execution_count": 41,
     "metadata": {},
     "output_type": "execute_result"
    }
   ],
   "source": [
    "import speech_recognition as sr\n",
    "sr.__version__"
   ]
  },
  {
   "cell_type": "code",
   "execution_count": 55,
   "id": "2a30c92c",
   "metadata": {},
   "outputs": [],
   "source": [
    "import pyttsx3  \n",
    "s = pyttsx3.init()  \n",
    "data = \"Sample Text\"  \n",
    "s.say(data)  \n",
    "s.runAndWait()  "
   ]
  },
  {
   "cell_type": "code",
   "execution_count": null,
   "id": "a694895b",
   "metadata": {},
   "outputs": [],
   "source": [
    "for i in zip(cafeteria_on)"
   ]
  }
 ],
 "metadata": {
  "kernelspec": {
   "display_name": "Python 3",
   "language": "python",
   "name": "python3"
  },
  "language_info": {
   "codemirror_mode": {
    "name": "ipython",
    "version": 3
   },
   "file_extension": ".py",
   "mimetype": "text/x-python",
   "name": "python",
   "nbconvert_exporter": "python",
   "pygments_lexer": "ipython3",
   "version": "3.8.8"
  }
 },
 "nbformat": 4,
 "nbformat_minor": 5
}
